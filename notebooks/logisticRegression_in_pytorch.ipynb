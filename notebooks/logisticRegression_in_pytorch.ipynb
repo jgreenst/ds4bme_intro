{
  "nbformat": 4,
  "nbformat_minor": 0,
  "metadata": {
    "colab": {
      "name": "logisticRegression in pytorch",
      "provenance": [],
      "collapsed_sections": [],
      "machine_shape": "hm",
      "include_colab_link": true
    },
    "kernelspec": {
      "name": "python3",
      "display_name": "Python 3"
    }
  },
  "cells": [
    {
      "cell_type": "markdown",
      "metadata": {
        "id": "view-in-github",
        "colab_type": "text"
      },
      "source": [
        "<a href=\"https://colab.research.google.com/github/bcaffo/ds4bme_intro/blob/master/notebooks/logisticRegression_in_pytorch.ipynb\" target=\"_parent\"><img src=\"https://colab.research.google.com/assets/colab-badge.svg\" alt=\"Open In Colab\"/></a>"
      ]
    },
    {
      "cell_type": "markdown",
      "metadata": {
        "id": "uiVM4lOtpJVt"
      },
      "source": [
        "This is an extension of using pytorch to perform linear regression to using it to perform logistic regression."
      ]
    },
    {
      "cell_type": "code",
      "metadata": {
        "id": "6nKZWgTDvTTK",
        "outputId": "264fb349-cfa2-42cd-ddb4-1efc49f2d883",
        "colab": {
          "base_uri": "https://localhost:8080/",
          "height": 195
        }
      },
      "source": [
        "import pandas as pd\n",
        "import torch\n",
        "import statsmodels.formula.api as smf\n",
        "import statsmodels as sm\n",
        "import seaborn as sns\n",
        "import matplotlib.pyplot as plt\n",
        "import numpy as np\n",
        "\n",
        "## Read in the data and display a few rows\n",
        "dat = pd.read_csv(\"https://raw.githubusercontent.com/bcaffo/ds4bme_intro/master/data/oasis.csv\")\n",
        "dat.head(4)\n",
        "\n",
        "## Create a binary outcome variable (people will use gold lesions in HW)\n",
        "m = np.median(dat.T2)\n",
        "dat = dat.assign(y = (dat.T2 > m) * 1 )\n",
        "## Create a normalized regression variable\n",
        "dat = dat.assign(x = (dat.PD - np.mean(dat.PD)) / np.std(dat.PD))\n",
        "dat.head()\n"
      ],
      "execution_count": 113,
      "outputs": [
        {
          "output_type": "execute_result",
          "data": {
            "text/html": [
              "<div>\n",
              "<style scoped>\n",
              "    .dataframe tbody tr th:only-of-type {\n",
              "        vertical-align: middle;\n",
              "    }\n",
              "\n",
              "    .dataframe tbody tr th {\n",
              "        vertical-align: top;\n",
              "    }\n",
              "\n",
              "    .dataframe thead th {\n",
              "        text-align: right;\n",
              "    }\n",
              "</style>\n",
              "<table border=\"1\" class=\"dataframe\">\n",
              "  <thead>\n",
              "    <tr style=\"text-align: right;\">\n",
              "      <th></th>\n",
              "      <th>FLAIR</th>\n",
              "      <th>PD</th>\n",
              "      <th>T1</th>\n",
              "      <th>T2</th>\n",
              "      <th>FLAIR_10</th>\n",
              "      <th>PD_10</th>\n",
              "      <th>T1_10</th>\n",
              "      <th>T2_10</th>\n",
              "      <th>FLAIR_20</th>\n",
              "      <th>PD_20</th>\n",
              "      <th>T1_20</th>\n",
              "      <th>T2_20</th>\n",
              "      <th>GOLD_Lesions</th>\n",
              "      <th>y</th>\n",
              "      <th>x</th>\n",
              "    </tr>\n",
              "  </thead>\n",
              "  <tbody>\n",
              "    <tr>\n",
              "      <th>0</th>\n",
              "      <td>1.143692</td>\n",
              "      <td>1.586219</td>\n",
              "      <td>-0.799859</td>\n",
              "      <td>1.634467</td>\n",
              "      <td>0.437568</td>\n",
              "      <td>0.823800</td>\n",
              "      <td>-0.002059</td>\n",
              "      <td>0.573663</td>\n",
              "      <td>0.279832</td>\n",
              "      <td>0.548341</td>\n",
              "      <td>0.219136</td>\n",
              "      <td>0.298662</td>\n",
              "      <td>0</td>\n",
              "      <td>1</td>\n",
              "      <td>1.181648</td>\n",
              "    </tr>\n",
              "    <tr>\n",
              "      <th>1</th>\n",
              "      <td>1.652552</td>\n",
              "      <td>1.766672</td>\n",
              "      <td>-1.250992</td>\n",
              "      <td>0.921230</td>\n",
              "      <td>0.663037</td>\n",
              "      <td>0.880250</td>\n",
              "      <td>-0.422060</td>\n",
              "      <td>0.542597</td>\n",
              "      <td>0.422182</td>\n",
              "      <td>0.549711</td>\n",
              "      <td>0.061573</td>\n",
              "      <td>0.280972</td>\n",
              "      <td>0</td>\n",
              "      <td>1</td>\n",
              "      <td>1.426453</td>\n",
              "    </tr>\n",
              "    <tr>\n",
              "      <th>2</th>\n",
              "      <td>1.036099</td>\n",
              "      <td>0.262042</td>\n",
              "      <td>-0.858565</td>\n",
              "      <td>-0.058211</td>\n",
              "      <td>-0.044280</td>\n",
              "      <td>-0.308569</td>\n",
              "      <td>0.014766</td>\n",
              "      <td>-0.256075</td>\n",
              "      <td>-0.136532</td>\n",
              "      <td>-0.350905</td>\n",
              "      <td>0.020673</td>\n",
              "      <td>-0.259914</td>\n",
              "      <td>0</td>\n",
              "      <td>0</td>\n",
              "      <td>-0.614749</td>\n",
              "    </tr>\n",
              "    <tr>\n",
              "      <th>3</th>\n",
              "      <td>1.037692</td>\n",
              "      <td>0.011104</td>\n",
              "      <td>-1.228796</td>\n",
              "      <td>-0.470222</td>\n",
              "      <td>-0.013971</td>\n",
              "      <td>-0.000498</td>\n",
              "      <td>-0.395575</td>\n",
              "      <td>-0.221900</td>\n",
              "      <td>0.000807</td>\n",
              "      <td>-0.003085</td>\n",
              "      <td>-0.193249</td>\n",
              "      <td>-0.139284</td>\n",
              "      <td>0</td>\n",
              "      <td>0</td>\n",
              "      <td>-0.955175</td>\n",
              "    </tr>\n",
              "    <tr>\n",
              "      <th>4</th>\n",
              "      <td>1.580589</td>\n",
              "      <td>1.730152</td>\n",
              "      <td>-0.860949</td>\n",
              "      <td>1.245609</td>\n",
              "      <td>0.617957</td>\n",
              "      <td>0.866352</td>\n",
              "      <td>-0.099919</td>\n",
              "      <td>0.384261</td>\n",
              "      <td>0.391133</td>\n",
              "      <td>0.608826</td>\n",
              "      <td>0.071648</td>\n",
              "      <td>0.340601</td>\n",
              "      <td>0</td>\n",
              "      <td>1</td>\n",
              "      <td>1.376909</td>\n",
              "    </tr>\n",
              "  </tbody>\n",
              "</table>\n",
              "</div>"
            ],
            "text/plain": [
              "      FLAIR        PD        T1        T2  ...     T2_20  GOLD_Lesions  y         x\n",
              "0  1.143692  1.586219 -0.799859  1.634467  ...  0.298662             0  1  1.181648\n",
              "1  1.652552  1.766672 -1.250992  0.921230  ...  0.280972             0  1  1.426453\n",
              "2  1.036099  0.262042 -0.858565 -0.058211  ... -0.259914             0  0 -0.614749\n",
              "3  1.037692  0.011104 -1.228796 -0.470222  ... -0.139284             0  0 -0.955175\n",
              "4  1.580589  1.730152 -0.860949  1.245609  ...  0.340601             0  1  1.376909\n",
              "\n",
              "[5 rows x 15 columns]"
            ]
          },
          "metadata": {
            "tags": []
          },
          "execution_count": 113
        }
      ]
    },
    {
      "cell_type": "code",
      "metadata": {
        "id": "ehiVfmYHJ4EL",
        "outputId": "eb701a2c-88e2-46ee-b2cf-3d5b6cc8eaa8",
        "colab": {
          "base_uri": "https://localhost:8080/",
          "height": 290
        }
      },
      "source": [
        "fit = smf.logit('y ~ x', data = dat).fit()\n",
        "fit.summary()"
      ],
      "execution_count": 114,
      "outputs": [
        {
          "output_type": "stream",
          "text": [
            "Optimization terminated successfully.\n",
            "         Current function value: 0.427855\n",
            "         Iterations 7\n"
          ],
          "name": "stdout"
        },
        {
          "output_type": "execute_result",
          "data": {
            "text/html": [
              "<table class=\"simpletable\">\n",
              "<caption>Logit Regression Results</caption>\n",
              "<tr>\n",
              "  <th>Dep. Variable:</th>           <td>y</td>        <th>  No. Observations:  </th>  <td>   100</td>  \n",
              "</tr>\n",
              "<tr>\n",
              "  <th>Model:</th>                 <td>Logit</td>      <th>  Df Residuals:      </th>  <td>    98</td>  \n",
              "</tr>\n",
              "<tr>\n",
              "  <th>Method:</th>                 <td>MLE</td>       <th>  Df Model:          </th>  <td>     1</td>  \n",
              "</tr>\n",
              "<tr>\n",
              "  <th>Date:</th>            <td>Wed, 30 Sep 2020</td> <th>  Pseudo R-squ.:     </th>  <td>0.3827</td>  \n",
              "</tr>\n",
              "<tr>\n",
              "  <th>Time:</th>                <td>02:50:12</td>     <th>  Log-Likelihood:    </th> <td> -42.785</td> \n",
              "</tr>\n",
              "<tr>\n",
              "  <th>converged:</th>             <td>True</td>       <th>  LL-Null:           </th> <td> -69.315</td> \n",
              "</tr>\n",
              "<tr>\n",
              "  <th>Covariance Type:</th>     <td>nonrobust</td>    <th>  LLR p-value:       </th> <td>3.238e-13</td>\n",
              "</tr>\n",
              "</table>\n",
              "<table class=\"simpletable\">\n",
              "<tr>\n",
              "      <td></td>         <th>coef</th>     <th>std err</th>      <th>z</th>      <th>P>|z|</th>  <th>[0.025</th>    <th>0.975]</th>  \n",
              "</tr>\n",
              "<tr>\n",
              "  <th>Intercept</th> <td>    0.0367</td> <td>    0.269</td> <td>    0.136</td> <td> 0.892</td> <td>   -0.491</td> <td>    0.565</td>\n",
              "</tr>\n",
              "<tr>\n",
              "  <th>x</th>         <td>    2.2226</td> <td>    0.436</td> <td>    5.095</td> <td> 0.000</td> <td>    1.368</td> <td>    3.078</td>\n",
              "</tr>\n",
              "</table>"
            ],
            "text/plain": [
              "<class 'statsmodels.iolib.summary.Summary'>\n",
              "\"\"\"\n",
              "                           Logit Regression Results                           \n",
              "==============================================================================\n",
              "Dep. Variable:                      y   No. Observations:                  100\n",
              "Model:                          Logit   Df Residuals:                       98\n",
              "Method:                           MLE   Df Model:                            1\n",
              "Date:                Wed, 30 Sep 2020   Pseudo R-squ.:                  0.3827\n",
              "Time:                        02:50:12   Log-Likelihood:                -42.785\n",
              "converged:                       True   LL-Null:                       -69.315\n",
              "Covariance Type:            nonrobust   LLR p-value:                 3.238e-13\n",
              "==============================================================================\n",
              "                 coef    std err          z      P>|z|      [0.025      0.975]\n",
              "------------------------------------------------------------------------------\n",
              "Intercept      0.0367      0.269      0.136      0.892      -0.491       0.565\n",
              "x              2.2226      0.436      5.095      0.000       1.368       3.078\n",
              "==============================================================================\n",
              "\"\"\""
            ]
          },
          "metadata": {
            "tags": []
          },
          "execution_count": 114
        }
      ]
    },
    {
      "cell_type": "code",
      "metadata": {
        "id": "F6gUNlf6LbJc"
      },
      "source": [
        "# The in sample predictions\n",
        "yhat = 1 / (1 + np.exp(-fit.fittedvalues))"
      ],
      "execution_count": 115,
      "outputs": []
    },
    {
      "cell_type": "code",
      "metadata": {
        "id": "9LZ4MgGEPxEN",
        "outputId": "6fe594a1-85f9-4644-f41c-6991e120e91c",
        "colab": {
          "base_uri": "https://localhost:8080/",
          "height": 34
        }
      },
      "source": [
        "n = dat.shape[0]\n",
        "\n",
        "## Get the y and x from \n",
        "xtraining = torch.from_numpy(dat['x'].values)\n",
        "ytraining = torch.from_numpy(dat['y'].values)\n",
        "\n",
        "## PT wants floats\n",
        "xtraining = xtraining.float()\n",
        "ytraining = ytraining.float()\n",
        "\n",
        "## Dimension is 1xn not nx1\n",
        "## squeeze the second dimension\n",
        "xtraining = xtraining.unsqueeze(1)\n",
        "ytraining = ytraining.unsqueeze(1)\n",
        "\n",
        "## Show that everything is the right size\n",
        "[xtraining.shape, \n",
        " ytraining.shape,\n",
        " [n, 1]\n",
        " ]\n",
        "\n"
      ],
      "execution_count": 116,
      "outputs": [
        {
          "output_type": "execute_result",
          "data": {
            "text/plain": [
              "[torch.Size([100, 1]), torch.Size([100, 1]), [100, 1]]"
            ]
          },
          "metadata": {
            "tags": []
          },
          "execution_count": 116
        }
      ]
    },
    {
      "cell_type": "code",
      "metadata": {
        "id": "OZKrXwTjPdrB"
      },
      "source": [
        "## Doing it more now the pytorch docs recommend\n",
        "## Example taken from \n",
        "## https://medium.com/biaslyai/pytorch-linear-and-logistic-regression-models-5c5f0da2cb9\n",
        "\n",
        "## They recommend creating a class that defines\n",
        "## the model\n",
        "class LogisticRegression(torch.nn.Module):\n",
        "     def __init__(self):\n",
        "        super(LogisticRegression, self).__init__()\n",
        "        self.linear = torch.nn.Linear(1, 1, bias = True)\n",
        "     def forward(self, x):\n",
        "        y_pred = torch.sigmoid(self.linear(x))\n",
        "        return y_pred\n",
        "\n",
        "## Then the model is simply  \n",
        "model = LogisticRegression()\n",
        "\n",
        "## MSE is the loss function\n",
        "loss_fn = torch.nn.BCELoss()  \n",
        "\n",
        "## Set the optimizer\n",
        "optimizer = torch.optim.SGD(model.parameters(), lr=1e-4)\n",
        "\n",
        "## Loop over iterations\n",
        "for t in range(100000):\n",
        "\n",
        "  ## Forward propagation\n",
        "  y_pred = model(xtraining)\n",
        "\n",
        "  ## the loss for this interation\n",
        "  loss = loss_fn(y_pred, ytraining)\n",
        "\n",
        "  #print(t, loss.item() / n)\n",
        "\n",
        "  ## Zero out the gradients before adding them up \n",
        "  optimizer.zero_grad()\n",
        "  \n",
        "  ## Backprop\n",
        "  loss.backward()\n",
        "  \n",
        "  ## Optimization step\n",
        "  optimizer.step()\n",
        "\n"
      ],
      "execution_count": 117,
      "outputs": []
    },
    {
      "cell_type": "code",
      "metadata": {
        "id": "fd1wjXgukgqs",
        "outputId": "91f22597-1686-4b25-ee01-67dcba4753ca",
        "colab": {
          "base_uri": "https://localhost:8080/",
          "height": 282
        }
      },
      "source": [
        "ytest = model(xtraining)\n",
        "ytest = ytest.detach().numpy().reshape(-1)\n",
        "plt.plot(yhat, ytest,  \".\")\n",
        "plt.plot([0, 1], [0, 1], linewidth=2)"
      ],
      "execution_count": 118,
      "outputs": [
        {
          "output_type": "execute_result",
          "data": {
            "text/plain": [
              "[<matplotlib.lines.Line2D at 0x7f21d092db00>]"
            ]
          },
          "metadata": {
            "tags": []
          },
          "execution_count": 118
        },
        {
          "output_type": "display_data",
          "data": {
            "image/png": "[encoded data removed]",
            "text/plain": [
              "<Figure size 432x288 with 1 Axes>"
            ]
          },
          "metadata": {
            "tags": [],
            "needs_background": "light"
          }
        }
      ]
    },
    {
      "cell_type": "code",
      "metadata": {
        "id": "hZpPdBPYy53z",
        "outputId": "8ee26a76-37fd-4dc4-ea84-9a7f17cd5c3a",
        "colab": {
          "base_uri": "https://localhost:8080/",
          "height": 52
        }
      },
      "source": [
        "for param in model.parameters():  \n",
        "  print(param.data)\n"
      ],
      "execution_count": 119,
      "outputs": [
        {
          "output_type": "stream",
          "text": [
            "tensor([[1.4062]])\n",
            "tensor([-0.0502])\n"
          ],
          "name": "stdout"
        }
      ]
    }
  ]
}