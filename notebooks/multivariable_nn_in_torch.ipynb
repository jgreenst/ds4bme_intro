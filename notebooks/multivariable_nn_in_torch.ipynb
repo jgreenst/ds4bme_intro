{
  "nbformat": 4,
  "nbformat_minor": 0,
  "metadata": {
    "colab": {
      "name": "multivariable_nn_in_torch",
      "provenance": [],
      "collapsed_sections": [],
      "machine_shape": "hm",
      "include_colab_link": true
    },
    "kernelspec": {
      "name": "python3",
      "display_name": "Python 3"
    }
  },
  "cells": [
    {
      "cell_type": "markdown",
      "metadata": {
        "id": "view-in-github",
        "colab_type": "text"
      },
      "source": [
        "<a href=\"https://colab.research.google.com/github/bcaffo/ds4bme_intro/blob/master/notebooks/multivariable_nn_in_torch.ipynb\" target=\"_parent\"><img src=\"https://colab.research.google.com/assets/colab-badge.svg\" alt=\"Open In Colab\"/></a>"
      ]
    },
    {
      "cell_type": "markdown",
      "metadata": {
        "id": "uiVM4lOtpJVt"
      },
      "source": [
        "This is an extension of using pytorch to perform a simple neural network. Note since this dataset is really small. I'm not splitting into a testing and training sets."
      ]
    },
    {
      "cell_type": "code",
      "metadata": {
        "id": "6nKZWgTDvTTK",
        "outputId": "c31668c8-f0f9-4a36-a55b-476e20d04373",
        "colab": {
          "base_uri": "https://localhost:8080/",
          "height": 195
        }
      },
      "source": [
        "import pandas as pd\n",
        "import torch\n",
        "import matplotlib.pyplot as plt\n",
        "import numpy as np\n",
        "from sklearn.linear_model import LinearRegression\n",
        "\n",
        "## Read in the data\n",
        "dat = pd.read_csv(\"https://raw.githubusercontent.com/bcaffo/ds4bme_intro/master/data/oasis.csv\")\n",
        "\n",
        "def normalize(x):\n",
        "  return (x - np.mean(x)) / np.std(x)\n",
        "\n",
        "## Create x variables that are normalized\n",
        "dat = dat.assign(\n",
        "    y = dat.PD,\n",
        "    x1 = normalize(dat.FLAIR),\n",
        "    x2 = normalize(dat.T1), \n",
        "    x3 = normalize(dat.T2),\n",
        "    x4 = normalize(dat.FLAIR_10),\n",
        "    x5 = normalize(dat.T1_10),\n",
        "    x6 = normalize(dat.T2_10))\n",
        "dat = dat.filter(['y', 'x1', 'x2', 'x3', 'x4', 'x5', 'x6'], axis = 1)\n",
        "dat.head()"
      ],
      "execution_count": 7,
      "outputs": [
        {
          "output_type": "execute_result",
          "data": {
            "text/html": [
              "<div>\n",
              "<style scoped>\n",
              "    .dataframe tbody tr th:only-of-type {\n",
              "        vertical-align: middle;\n",
              "    }\n",
              "\n",
              "    .dataframe tbody tr th {\n",
              "        vertical-align: top;\n",
              "    }\n",
              "\n",
              "    .dataframe thead th {\n",
              "        text-align: right;\n",
              "    }\n",
              "</style>\n",
              "<table border=\"1\" class=\"dataframe\">\n",
              "  <thead>\n",
              "    <tr style=\"text-align: right;\">\n",
              "      <th></th>\n",
              "      <th>y</th>\n",
              "      <th>x1</th>\n",
              "      <th>x2</th>\n",
              "      <th>x3</th>\n",
              "      <th>x4</th>\n",
              "      <th>x5</th>\n",
              "      <th>x6</th>\n",
              "    </tr>\n",
              "  </thead>\n",
              "  <tbody>\n",
              "    <tr>\n",
              "      <th>0</th>\n",
              "      <td>1.586219</td>\n",
              "      <td>-0.841279</td>\n",
              "      <td>-0.904128</td>\n",
              "      <td>1.466353</td>\n",
              "      <td>0.556695</td>\n",
              "      <td>-0.569218</td>\n",
              "      <td>1.921010</td>\n",
              "    </tr>\n",
              "    <tr>\n",
              "      <th>1</th>\n",
              "      <td>1.766672</td>\n",
              "      <td>-0.049795</td>\n",
              "      <td>-1.501128</td>\n",
              "      <td>0.534121</td>\n",
              "      <td>1.403361</td>\n",
              "      <td>-1.811374</td>\n",
              "      <td>1.800152</td>\n",
              "    </tr>\n",
              "    <tr>\n",
              "      <th>2</th>\n",
              "      <td>0.262042</td>\n",
              "      <td>-1.008629</td>\n",
              "      <td>-0.981815</td>\n",
              "      <td>-0.746050</td>\n",
              "      <td>-1.252711</td>\n",
              "      <td>-0.519458</td>\n",
              "      <td>-1.307041</td>\n",
              "    </tr>\n",
              "    <tr>\n",
              "      <th>3</th>\n",
              "      <td>0.011104</td>\n",
              "      <td>-1.006151</td>\n",
              "      <td>-1.471756</td>\n",
              "      <td>-1.284565</td>\n",
              "      <td>-1.138899</td>\n",
              "      <td>-1.733044</td>\n",
              "      <td>-1.174082</td>\n",
              "    </tr>\n",
              "    <tr>\n",
              "      <th>4</th>\n",
              "      <td>1.730152</td>\n",
              "      <td>-0.161726</td>\n",
              "      <td>-0.984970</td>\n",
              "      <td>0.958099</td>\n",
              "      <td>1.234082</td>\n",
              "      <td>-0.858639</td>\n",
              "      <td>1.184153</td>\n",
              "    </tr>\n",
              "  </tbody>\n",
              "</table>\n",
              "</div>"
            ],
            "text/plain": [
              "          y        x1        x2        x3        x4        x5        x6\n",
              "0  1.586219 -0.841279 -0.904128  1.466353  0.556695 -0.569218  1.921010\n",
              "1  1.766672 -0.049795 -1.501128  0.534121  1.403361 -1.811374  1.800152\n",
              "2  0.262042 -1.008629 -0.981815 -0.746050 -1.252711 -0.519458 -1.307041\n",
              "3  0.011104 -1.006151 -1.471756 -1.284565 -1.138899 -1.733044 -1.174082\n",
              "4  1.730152 -0.161726 -0.984970  0.958099  1.234082 -0.858639  1.184153"
            ]
          },
          "metadata": {
            "tags": []
          },
          "execution_count": 7
        }
      ]
    },
    {
      "cell_type": "code",
      "metadata": {
        "id": "KlKINCcFrw_D"
      },
      "source": [
        "y = dat.y\n",
        "x = dat.drop('y', axis = 1)\n",
        "\n",
        "## I find it easier to convert to np arrays before torch tensors\n",
        "y = pd.DataFrame.to_numpy(y)\n",
        "x = pd.DataFrame.to_numpy(x)\n",
        "\n",
        "## This will give you a sense of the\n",
        "## in sample prediction using just a linear model\n",
        "#reg = LinearRegression().fit(x, y)\n",
        "#yhat = reg.predict(x)\n",
        "#plt.plot(y, yhat, \".\")\n",
        "\n",
        "## have to switch floating point precision for torch\n",
        "xtraining = torch.from_numpy(x).float()\n",
        "ytraining = torch.from_numpy(y).float()"
      ],
      "execution_count": 8,
      "outputs": []
    },
    {
      "cell_type": "code",
      "metadata": {
        "id": "9LZ4MgGEPxEN",
        "outputId": "8342769b-4398-4f06-b503-6b8fa114013b",
        "colab": {
          "base_uri": "https://localhost:8080/",
          "height": 34
        }
      },
      "source": [
        "n = x.shape[0]\n",
        "p = x.shape[1]\n",
        "\n",
        "## Show that everything is the right size\n",
        "print([xtraining.shape, ytraining.shape, [n, p]])"
      ],
      "execution_count": 10,
      "outputs": [
        {
          "output_type": "stream",
          "text": [
            "[torch.Size([100, 6]), torch.Size([100]), [100, 6]]\n"
          ],
          "name": "stdout"
        }
      ]
    },
    {
      "cell_type": "code",
      "metadata": {
        "id": "CnbdQ-kP4c5u"
      },
      "source": [
        "## Two layers\n",
        "model = torch.nn.Sequential(\n",
        "    torch.nn.Linear(p,3),\n",
        "    torch.nn.ReLU(),\n",
        "    torch.nn.Linear(3,1)\n",
        ")\n",
        "\n",
        "## MSE is the loss function\n",
        "loss_fn = torch.nn.MSELoss(reduction='sum')  \n",
        "\n",
        "## Set the optimizer\n",
        "#optimizer = torch.optim.SGD(model.parameters(), lr=1e-4)\n",
        "optimizer = torch.optim.Adam(model.parameters())\n",
        "\n"
      ],
      "execution_count": 11,
      "outputs": []
    },
    {
      "cell_type": "code",
      "metadata": {
        "id": "OZKrXwTjPdrB",
        "outputId": "059251fe-8512-4e0e-d05c-8128b2c96a7e",
        "colab": {
          "base_uri": "https://localhost:8080/",
          "height": 72
        }
      },
      "source": [
        "## Loop over iterations\n",
        "for t in range(100000):\n",
        "\n",
        "  ## Forward propagation\n",
        "  y_pred = model(xtraining)\n",
        "\n",
        "  ## the loss for this interation\n",
        "  loss = loss_fn(y_pred, ytraining)\n",
        "\n",
        "  ## Zero out the gradients before adding them up \n",
        "  optimizer.zero_grad()\n",
        "  \n",
        "  ## Backprop\n",
        "  loss.backward()\n",
        "  \n",
        "  ## Optimization step\n",
        "  optimizer.step()\n",
        "\n"
      ],
      "execution_count": 12,
      "outputs": [
        {
          "output_type": "stream",
          "text": [
            "/usr/local/lib/python3.6/dist-packages/torch/nn/modules/loss.py:445: UserWarning: Using a target size (torch.Size([100])) that is different to the input size (torch.Size([100, 1])). This will likely lead to incorrect results due to broadcasting. Please ensure they have the same size.\n",
            "  return F.mse_loss(input, target, reduction=self.reduction)\n"
          ],
          "name": "stderr"
        }
      ]
    },
    {
      "cell_type": "code",
      "metadata": {
        "id": "fd1wjXgukgqs",
        "outputId": "6d32f7bc-4d14-4f77-e0f6-f754a0662944",
        "colab": {
          "base_uri": "https://localhost:8080/",
          "height": 282
        }
      },
      "source": [
        "#How are we doing in sample?\n",
        "yhat = model(xtraining).detach().numpy().reshape(-1)\n",
        "plt.plot(ytraining, yhat,  \".\") "
      ],
      "execution_count": 13,
      "outputs": [
        {
          "output_type": "execute_result",
          "data": {
            "text/plain": [
              "[<matplotlib.lines.Line2D at 0x7f231934dba8>]"
            ]
          },
          "metadata": {
            "tags": []
          },
          "execution_count": 13
        },
        {
          "output_type": "display_data",
          "data": {
            "image/png": "[encoded data removed]",
            "text/plain": [
              "<Figure size 432x288 with 1 Axes>"
            ]
          },
          "metadata": {
            "tags": [],
            "needs_background": "light"
          }
        }
      ]
    }
  ]
}